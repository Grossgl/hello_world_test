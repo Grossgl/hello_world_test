{
 "cells": [
  {
   "cell_type": "code",
   "execution_count": 1,
   "id": "f8b01485-992d-4db9-8217-d2ce91948487",
   "metadata": {},
   "outputs": [
    {
     "name": "stdout",
     "output_type": "stream",
     "text": [
      "3600 seconds per hour\n",
      "86400 seconds per day\n",
      "86400 seconds per day\n",
      "24.0\n",
      "24\n"
     ]
    }
   ],
   "source": [
    "# Variables\n",
    "seconds = 60\n",
    "minutes =  60\n",
    "day = 24\n",
    "\n",
    "# 3.2 Assign the result from the previous task (seconds in an hour) to a variable called seconds_per_hour.\n",
    "seconds_per_hour = seconds * minutes\n",
    "print(seconds_per_hour, \"seconds per hour\")\n",
    "\n",
    "# 3.3 How many seconds are in a day? Use your seconds_per_hour variable.\n",
    "\n",
    "seconds_per_day = seconds_per_hour * day\n",
    "print(seconds_per_day, \"seconds per day\")\n",
    "\n",
    "# 3.4 Calculate seconds per day again, but this time save the result in a variable called seconds_per_day.\n",
    "seconds_per_day = seconds_per_hour * day\n",
    "print(seconds_per_day, \"seconds per day\")\n",
    "\n",
    "# 3.5 Divide seconds_per_day by seconds_per_hour. Use floating-point (/) division.\n",
    "print(seconds_per_day / seconds_per_hour)\n",
    "\n",
    "# 3.6 Divide seconds_per_day by seconds_per_hour, using integer (//) division. \n",
    "print(seconds_per_day // seconds_per_hour)\n",
    "\n",
    "# Did this number agree with the floating-point value from the previous question, aside from the final .0?\n",
    "# yes. It is logically accepted 24 or 24.0 since if we round it off to the nearest whole number it would just be 24"
   ]
  },
  {
   "cell_type": "code",
   "execution_count": null,
   "id": "0144504b-7cec-461e-9fb1-79e7dba16b63",
   "metadata": {},
   "outputs": [],
   "source": []
  }
 ],
 "metadata": {
  "kernelspec": {
   "display_name": "Python 3 (ipykernel)",
   "language": "python",
   "name": "python3"
  },
  "language_info": {
   "codemirror_mode": {
    "name": "ipython",
    "version": 3
   },
   "file_extension": ".py",
   "mimetype": "text/x-python",
   "name": "python",
   "nbconvert_exporter": "python",
   "pygments_lexer": "ipython3",
   "version": "3.12.7"
  }
 },
 "nbformat": 4,
 "nbformat_minor": 5
}
